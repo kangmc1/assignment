{
 "cells": [
  {
   "cell_type": "code",
   "execution_count": 1,
   "metadata": {},
   "outputs": [
    {
     "name": "stdout",
     "output_type": "stream",
     "text": [
      "cuda\n",
      "Files already downloaded and verified\n",
      "Accuracy of the ensemble on the 10000 test images: 97.250000 %\n"
     ]
    }
   ],
   "source": [
    "import torch\n",
    "import torchvision\n",
    "import torchvision.transforms as transforms\n",
    "import torch.nn as nn\n",
    "import timm\n",
    "\n",
    "model_num = 6\n",
    "lr = 0.001\n",
    "\n",
    "# Check if GPU is available\n",
    "device = torch.device(\"cuda\" if torch.cuda.is_available() else \"cpu\")\n",
    "print(device)\n",
    "\n",
    "# Define the data transforms\n",
    "transform_test = transforms.Compose([\n",
    "    transforms.Resize(256),\n",
    "    transforms.TenCrop(224),\n",
    "    transforms.Lambda(lambda crops: torch.stack([transforms.Normalize((0.5, 0.5, 0.5), (0.5, 0.5, 0.5))(transforms.ToTensor()(crop)) for crop in crops]))\n",
    "])\n",
    "# Load the CIFAR-10 test dataset\n",
    "testset = torchvision.datasets.CIFAR10(root='./data', train=False, download=True, transform=transform_test)\n",
    "# testloader가 num_workers 때문에 안돌아간 걸수도 있어서 num_workers를 바꿔서 해보자\n",
    "# testloader = torch.utils.data.DataLoader(testset, batch_size=100, shuffle=False, num_workers=16)\n",
    "testloader = torch.utils.data.DataLoader(testset, batch_size=100, shuffle=False, num_workers=4)\n",
    "\n",
    "# Define the list of models for ensemble\n",
    "models = []\n",
    "for i in range(model_num):\n",
    "    # Define the ResNet-18 model with pre-trained weights\n",
    "    model = timm.create_model('resnet18', num_classes=10)\n",
    "    model.load_state_dict(torch.load(f\"resnet18_cifar10_%f_%d.pth\" % (lr, i)))  # Load the trained weights\n",
    "    # 구조가 조금 달라서 load 코드 수정.\n",
    "    # model.load_state_dict(torch.load(f\"resnet18_cifar10_0.005000_%d.pth\" % (i)))  # Load the trained weights\n",
    "    model.eval()  # Set the model to evaluation mode\n",
    "    model = model.to(device)  # Move the model to the GPU\n",
    "    models.append(model)\n",
    "\n",
    "# Evaluate the ensemble of models\n",
    "correct = 0\n",
    "total = 0\n",
    "with torch.no_grad():\n",
    "    for data in testloader:\n",
    "        images, labels = data\n",
    "        images, labels = images.to(device), labels.to(device)  # Move the input data to the GPU\n",
    "        bs, ncrops, c, h, w = images.size()       \n",
    "        outputs = torch.zeros(bs, 10).to(device)  # Initialize the output tensor with zeros\n",
    "        for model in models:\n",
    "            model_output = model(images.view(-1, c, h, w))  # Reshape the input to (bs*10, c, h, w)\n",
    "            model_output = model_output.view(bs, ncrops, -1).mean(1)  # Average the predictions of the 10 crops\n",
    "            outputs += model_output\n",
    "        _, predicted = torch.max(outputs.data, 1)\n",
    "        total += labels.size(0)\n",
    "        correct += (predicted == labels).sum().item()\n",
    "\n",
    "print('Accuracy of the ensemble on the 10000 test images: %f %%' % (100 * correct / total))"
   ]
  },
  {
   "cell_type": "code",
   "execution_count": null,
   "metadata": {},
   "outputs": [],
   "source": []
  }
 ],
 "metadata": {
  "kernelspec": {
   "display_name": "vision",
   "language": "python",
   "name": "python3"
  },
  "language_info": {
   "codemirror_mode": {
    "name": "ipython",
    "version": 3
   },
   "file_extension": ".py",
   "mimetype": "text/x-python",
   "name": "python",
   "nbconvert_exporter": "python",
   "pygments_lexer": "ipython3",
   "version": "3.8.16"
  },
  "orig_nbformat": 4,
  "vscode": {
   "interpreter": {
    "hash": "d55d1fbf1d721cc2e3b7af21952e19aefbc1b3427742adfbc4f18e3b25bafbac"
   }
  }
 },
 "nbformat": 4,
 "nbformat_minor": 2
}
